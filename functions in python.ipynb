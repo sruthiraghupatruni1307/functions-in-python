{
 "cells": [
  {
   "cell_type": "markdown",
   "id": "6a0e567c",
   "metadata": {},
   "source": [
    "# Functions"
   ]
  },
  {
   "cell_type": "code",
   "execution_count": 1,
   "id": "37f24b0a",
   "metadata": {},
   "outputs": [],
   "source": [
    "def addition(a,b):\n",
    "    return a+b"
   ]
  },
  {
   "cell_type": "code",
   "execution_count": 2,
   "id": "c14d4a7c",
   "metadata": {},
   "outputs": [
    {
     "name": "stdout",
     "output_type": "stream",
     "text": [
      "10\n"
     ]
    }
   ],
   "source": [
    "print(addition(5,5))"
   ]
  },
  {
   "cell_type": "markdown",
   "id": "c8551c89",
   "metadata": {},
   "source": [
    "# variable length arguments"
   ]
  },
  {
   "cell_type": "code",
   "execution_count": 3,
   "id": "f848c3d9",
   "metadata": {},
   "outputs": [],
   "source": [
    "def addition(a,*b):  # +args\n",
    "    print(a)\n",
    "    print(b)\n",
    "    return"
   ]
  },
  {
   "cell_type": "code",
   "execution_count": 4,
   "id": "781288a0",
   "metadata": {},
   "outputs": [
    {
     "name": "stdout",
     "output_type": "stream",
     "text": [
      "5\n",
      "(5,)\n",
      "None\n"
     ]
    }
   ],
   "source": [
    "print(addition(5,5))"
   ]
  },
  {
   "cell_type": "code",
   "execution_count": 5,
   "id": "94341db1",
   "metadata": {},
   "outputs": [
    {
     "name": "stdout",
     "output_type": "stream",
     "text": [
      "5\n",
      "(8, 6, 7, 9, 3, 5, 55, 7, 5, 5)\n"
     ]
    }
   ],
   "source": [
    "addition(5,8,6,7,9,3,5,55,7,5,5)"
   ]
  },
  {
   "cell_type": "code",
   "execution_count": 8,
   "id": "e4c95603",
   "metadata": {},
   "outputs": [],
   "source": [
    "def addition(*a,b):  # args\n",
    "    print(a)\n",
    "    print(b)\n",
    "    return"
   ]
  },
  {
   "cell_type": "code",
   "execution_count": 7,
   "id": "bc2ef624",
   "metadata": {},
   "outputs": [
    {
     "name": "stdout",
     "output_type": "stream",
     "text": [
      "(5, 8, 6, 7, 9, 3, 5, 55, 7, 5, 5)\n",
      "55\n"
     ]
    }
   ],
   "source": [
    "addition(5,8,6,7,9,3,5,55,7,5,5,b=55)"
   ]
  },
  {
   "cell_type": "code",
   "execution_count": 9,
   "id": "f3199d98",
   "metadata": {},
   "outputs": [],
   "source": [
    "def addition(*a,b):  # args\n",
    "    s=b\n",
    "    for num in a:\n",
    "        s+=num\n",
    "    return s"
   ]
  },
  {
   "cell_type": "code",
   "execution_count": 10,
   "id": "2c548402",
   "metadata": {},
   "outputs": [
    {
     "data": {
      "text/plain": [
       "170"
      ]
     },
     "execution_count": 10,
     "metadata": {},
     "output_type": "execute_result"
    }
   ],
   "source": [
    "addition(5,8,6,7,9,3,5,55,7,5,5,b=55)"
   ]
  },
  {
   "cell_type": "code",
   "execution_count": 11,
   "id": "63ea0468",
   "metadata": {},
   "outputs": [],
   "source": [
    "def addition(*a,b):  # args\n",
    "    return sum(a)+b"
   ]
  },
  {
   "cell_type": "code",
   "execution_count": 12,
   "id": "f84c205c",
   "metadata": {},
   "outputs": [
    {
     "data": {
      "text/plain": [
       "170"
      ]
     },
     "execution_count": 12,
     "metadata": {},
     "output_type": "execute_result"
    }
   ],
   "source": [
    "addition(5,8,6,7,9,3,5,55,7,5,5,b=55)"
   ]
  },
  {
   "cell_type": "code",
   "execution_count": 13,
   "id": "508117e3",
   "metadata": {},
   "outputs": [],
   "source": [
    "def addition(**var):  # keyword args\n",
    "    return var"
   ]
  },
  {
   "cell_type": "code",
   "execution_count": 17,
   "id": "f8ac7bbb",
   "metadata": {},
   "outputs": [
    {
     "name": "stdout",
     "output_type": "stream",
     "text": [
      "{'a': 1, 'b': 10, 'c': 25, 'd': 35, 'abc': 55}\n"
     ]
    }
   ],
   "source": [
    "print(addition(a=1,b=10,c=25,d=35,abc=55))"
   ]
  },
  {
   "cell_type": "code",
   "execution_count": 4,
   "id": "da1691f5",
   "metadata": {},
   "outputs": [],
   "source": [
    "def open_file(fileName):\n",
    "    s=open(fileName,'r')\n",
    "    data=s.read()\n",
    "    s.close()\n",
    "    return data\n",
    "\n",
    "\n",
    "def open_file2(fileName):\n",
    "    with open(fileName,'r')as f:\n",
    "        data=f.read()\n",
    "    return data"
   ]
  },
  {
   "cell_type": "code",
   "execution_count": 3,
   "id": "46b03cb9",
   "metadata": {},
   "outputs": [
    {
     "name": "stdout",
     "output_type": "stream",
     "text": [
      "Python is a multi-paradigm programming language. Object-oriented programming and structured programming are fully supported, and many of its features support functional programming and aspect-oriented programming (including by metaprogramming[58] and metaobjects (magic methods)).[59] Many other paradigms are supported via extensions, including design by contract[60][61] and logic programming.[62]\n",
      "\n",
      "Python uses dynamic typing and a combination of reference counting and a cycle-detecting garbage collector for memory management.[63] It also features dynamic name resolution (late binding), which binds method and variable names during program execution.\n",
      "\n",
      "Python's design offers some support for functional programming in the Lisp tradition. It has filter,mapandreduce functions; list comprehensions, dictionaries, sets, and generator expressions.[64] The standard library has two modules (itertools and functools) that implement functional tools borrowed from Haskell and Standard ML.[65]\n",
      "\n",
      "The language's core philosophy is summarized in the document The Zen of Python (PEP 20), which includes aphorisms such as:[66]\n",
      "\n",
      "Beautiful is better than ugly.\n",
      "Explicit is better than implicit.\n",
      "Simple is better than complex.\n",
      "Complex is better than complicated.\n",
      "Readability counts.\n",
      "Rather than having all of its functionality built into its core, Python was designed to be highly extensible (with modules). This compact modularity has made it particularly popular as a means of adding programmable interfaces to existing applications. Van Rossum's vision of a small core language with a large standard library and easily extensible interpreter stemmed from his frustrations with ABC, which espoused the opposite approach.[39]\n"
     ]
    }
   ],
   "source": [
    "data=open_file('data_file.txt')\n",
    "print(data)"
   ]
  },
  {
   "cell_type": "code",
   "execution_count": 2,
   "id": "1c6bf14a",
   "metadata": {},
   "outputs": [
    {
     "name": "stdout",
     "output_type": "stream",
     "text": [
      "Python is a multi-paradigm programming language. Object-oriented programming and structured programming are fully supported, and many of its features support functional programming and aspect-oriented programming (including by metaprogramming[58] and metaobjects (magic methods)).[59] Many other paradigms are supported via extensions, including design by contract[60][61] and logic programming.[62]\n",
      "\n",
      "Python uses dynamic typing and a combination of reference counting and a cycle-detecting garbage collector for memory management.[63] It also features dynamic name resolution (late binding), which binds method and variable names during program execution.\n",
      "\n",
      "Python's design offers some support for functional programming in the Lisp tradition. It has filter,mapandreduce functions; list comprehensions, dictionaries, sets, and generator expressions.[64] The standard library has two modules (itertools and functools) that implement functional tools borrowed from Haskell and Standard ML.[65]\n",
      "\n",
      "The language's core philosophy is summarized in the document The Zen of Python (PEP 20), which includes aphorisms such as:[66]\n",
      "\n",
      "Beautiful is better than ugly.\n",
      "Explicit is better than implicit.\n",
      "Simple is better than complex.\n",
      "Complex is better than complicated.\n",
      "Readability counts.\n",
      "Rather than having all of its functionality built into its core, Python was designed to be highly extensible (with modules). This compact modularity has made it particularly popular as a means of adding programmable interfaces to existing applications. Van Rossum's vision of a small core language with a large standard library and easily extensible interpreter stemmed from his frustrations with ABC, which espoused the opposite approach.[39]\n"
     ]
    }
   ],
   "source": [
    "data=open_file2('data_file.txt')\n",
    "print(data)"
   ]
  },
  {
   "cell_type": "code",
   "execution_count": 9,
   "id": "b729b5f8",
   "metadata": {},
   "outputs": [
    {
     "data": {
      "text/plain": [
       "['__and__',\n",
       " '__class__',\n",
       " '__contains__',\n",
       " '__delattr__',\n",
       " '__dir__',\n",
       " '__doc__',\n",
       " '__eq__',\n",
       " '__format__',\n",
       " '__ge__',\n",
       " '__getattribute__',\n",
       " '__gt__',\n",
       " '__hash__',\n",
       " '__iand__',\n",
       " '__init__',\n",
       " '__init_subclass__',\n",
       " '__ior__',\n",
       " '__isub__',\n",
       " '__iter__',\n",
       " '__ixor__',\n",
       " '__le__',\n",
       " '__len__',\n",
       " '__lt__',\n",
       " '__ne__',\n",
       " '__new__',\n",
       " '__or__',\n",
       " '__rand__',\n",
       " '__reduce__',\n",
       " '__reduce_ex__',\n",
       " '__repr__',\n",
       " '__ror__',\n",
       " '__rsub__',\n",
       " '__rxor__',\n",
       " '__setattr__',\n",
       " '__sizeof__',\n",
       " '__str__',\n",
       " '__sub__',\n",
       " '__subclasshook__',\n",
       " '__xor__',\n",
       " 'add',\n",
       " 'clear',\n",
       " 'copy',\n",
       " 'difference',\n",
       " 'difference_update',\n",
       " 'discard',\n",
       " 'intersection',\n",
       " 'intersection_update',\n",
       " 'isdisjoint',\n",
       " 'issubset',\n",
       " 'issuperset',\n",
       " 'pop',\n",
       " 'remove',\n",
       " 'symmetric_difference',\n",
       " 'symmetric_difference_update',\n",
       " 'union',\n",
       " 'update']"
      ]
     },
     "execution_count": 9,
     "metadata": {},
     "output_type": "execute_result"
    }
   ],
   "source": [
    "dir(set)"
   ]
  },
  {
   "cell_type": "code",
   "execution_count": 8,
   "id": "f102c22f",
   "metadata": {},
   "outputs": [],
   "source": [
    "def freq_words(data):\n",
    "    data=data.split()\n",
    "    print(len(data))\n",
    "    data=list(set(data))\n",
    "    print(len(data))\n",
    "    freq={}\n",
    "    for word in data:\n",
    "        freq[word]=data.count(word)\n",
    "    return freq"
   ]
  },
  {
   "cell_type": "code",
   "execution_count": 10,
   "id": "69ed142d",
   "metadata": {},
   "outputs": [
    {
     "name": "stdout",
     "output_type": "stream",
     "text": [
      "231\n",
      "162\n"
     ]
    },
    {
     "data": {
      "text/plain": [
       "{'supported': 1,\n",
       " '(itertools': 1,\n",
       " 'many': 1,\n",
       " 'such': 1,\n",
       " 'execution.': 1,\n",
       " 'Complex': 1,\n",
       " 'structured': 1,\n",
       " '(with': 1,\n",
       " 'compact': 1,\n",
       " 'logic': 1,\n",
       " 'method': 1,\n",
       " 'implement': 1,\n",
       " 'philosophy': 1,\n",
       " 'Rather': 1,\n",
       " 'features': 1,\n",
       " 'than': 1,\n",
       " 'methods)).[59]': 1,\n",
       " 'designed': 1,\n",
       " 'frustrations': 1,\n",
       " 'summarized': 1,\n",
       " 'contract[60][61]': 1,\n",
       " 'programming': 1,\n",
       " 'small': 1,\n",
       " 'generator': 1,\n",
       " 'in': 1,\n",
       " '(including': 1,\n",
       " 'reference': 1,\n",
       " 'into': 1,\n",
       " \"language's\": 1,\n",
       " 'Lisp': 1,\n",
       " 'is': 1,\n",
       " 'dictionaries,': 1,\n",
       " 'metaprogramming[58]': 1,\n",
       " 'language.': 1,\n",
       " 'typing': 1,\n",
       " 'multi-paradigm': 1,\n",
       " 'supported,': 1,\n",
       " 'counting': 1,\n",
       " 'support': 1,\n",
       " 'for': 1,\n",
       " 'of': 1,\n",
       " 'functional': 1,\n",
       " 'his': 1,\n",
       " 'easily': 1,\n",
       " 'a': 1,\n",
       " '(late': 1,\n",
       " 'it': 1,\n",
       " 'list': 1,\n",
       " 'names': 1,\n",
       " 'that': 1,\n",
       " 'implicit.': 1,\n",
       " 'highly': 1,\n",
       " 'during': 1,\n",
       " 'binding),': 1,\n",
       " 'filter,mapandreduce': 1,\n",
       " 'applications.': 1,\n",
       " 'from': 1,\n",
       " 'aspect-oriented': 1,\n",
       " 'via': 1,\n",
       " 'The': 1,\n",
       " 'Beautiful': 1,\n",
       " 'existing': 1,\n",
       " 'Many': 1,\n",
       " 'document': 1,\n",
       " 'made': 1,\n",
       " '20),': 1,\n",
       " 'means': 1,\n",
       " 'vision': 1,\n",
       " 'modules': 1,\n",
       " 'functools)': 1,\n",
       " 'paradigms': 1,\n",
       " 'core,': 1,\n",
       " 'adding': 1,\n",
       " 'Haskell': 1,\n",
       " 'program': 1,\n",
       " '(PEP': 1,\n",
       " 'tradition.': 1,\n",
       " 'variable': 1,\n",
       " 'complex.': 1,\n",
       " 'particularly': 1,\n",
       " 'Standard': 1,\n",
       " 'resolution': 1,\n",
       " 'having': 1,\n",
       " 'offers': 1,\n",
       " 'garbage': 1,\n",
       " 'language': 1,\n",
       " 'standard': 1,\n",
       " 'Object-oriented': 1,\n",
       " 'the': 1,\n",
       " 'by': 1,\n",
       " 'are': 1,\n",
       " 'and': 1,\n",
       " 'Python': 1,\n",
       " 'programmable': 1,\n",
       " 'be': 1,\n",
       " 'espoused': 1,\n",
       " 'ugly.': 1,\n",
       " 'two': 1,\n",
       " 'fully': 1,\n",
       " 'name': 1,\n",
       " 'binds': 1,\n",
       " 'core': 1,\n",
       " 'interpreter': 1,\n",
       " 'better': 1,\n",
       " \"Python's\": 1,\n",
       " 'Van': 1,\n",
       " 'complicated.': 1,\n",
       " 'design': 1,\n",
       " 'programming.[62]': 1,\n",
       " 'combination': 1,\n",
       " 'sets,': 1,\n",
       " 'which': 1,\n",
       " \"Rossum's\": 1,\n",
       " 'opposite': 1,\n",
       " 'approach.[39]': 1,\n",
       " 'memory': 1,\n",
       " 'was': 1,\n",
       " 'expressions.[64]': 1,\n",
       " 'modularity': 1,\n",
       " 'built': 1,\n",
       " 'tools': 1,\n",
       " 'This': 1,\n",
       " 'Explicit': 1,\n",
       " 'functions;': 1,\n",
       " 'metaobjects': 1,\n",
       " 'management.[63]': 1,\n",
       " 'interfaces': 1,\n",
       " 'aphorisms': 1,\n",
       " 'to': 1,\n",
       " 'borrowed': 1,\n",
       " '(magic': 1,\n",
       " 'has': 1,\n",
       " 'collector': 1,\n",
       " 'also': 1,\n",
       " 'other': 1,\n",
       " 'all': 1,\n",
       " 'uses': 1,\n",
       " 'as': 1,\n",
       " 'with': 1,\n",
       " 'cycle-detecting': 1,\n",
       " 'extensible': 1,\n",
       " 'Readability': 1,\n",
       " 'includes': 1,\n",
       " 'functionality': 1,\n",
       " 'large': 1,\n",
       " 'some': 1,\n",
       " 'stemmed': 1,\n",
       " 'modules).': 1,\n",
       " 'comprehensions,': 1,\n",
       " 'popular': 1,\n",
       " 'counts.': 1,\n",
       " 'dynamic': 1,\n",
       " 'library': 1,\n",
       " 'as:[66]': 1,\n",
       " 'Simple': 1,\n",
       " 'its': 1,\n",
       " 'It': 1,\n",
       " 'ML.[65]': 1,\n",
       " 'including': 1,\n",
       " 'extensions,': 1,\n",
       " 'Zen': 1,\n",
       " 'ABC,': 1}"
      ]
     },
     "execution_count": 10,
     "metadata": {},
     "output_type": "execute_result"
    }
   ],
   "source": [
    "freq_words(data)"
   ]
  }
 ],
 "metadata": {
  "kernelspec": {
   "display_name": "Python 3",
   "language": "python",
   "name": "python3"
  },
  "language_info": {
   "codemirror_mode": {
    "name": "ipython",
    "version": 3
   },
   "file_extension": ".py",
   "mimetype": "text/x-python",
   "name": "python",
   "nbconvert_exporter": "python",
   "pygments_lexer": "ipython3",
   "version": "3.8.8"
  }
 },
 "nbformat": 4,
 "nbformat_minor": 5
}
